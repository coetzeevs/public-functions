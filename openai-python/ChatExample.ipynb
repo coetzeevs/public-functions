{
 "cells": [
  {
   "cell_type": "code",
   "execution_count": 21,
   "id": "ba5f4a74-0665-4cd2-abde-4871b21eecb1",
   "metadata": {},
   "outputs": [],
   "source": [
    "from gpt import chat_with_gpt"
   ]
  },
  {
   "cell_type": "code",
   "execution_count": 22,
   "id": "d2f66f1c-3bcc-41a7-9235-bc4ac6431d92",
   "metadata": {},
   "outputs": [],
   "source": [
    "key = \"sk-xxx\" #insert your API key here\n",
    "context = \"You are a poetic assistant, skilled in explaining complex programming concepts with creative flair.\"\n",
    "prompt = \"Compose a poem that explains the concept of functional programming.\"\n",
    "model = \"gpt-3.5-turbo\""
   ]
  },
  {
   "cell_type": "code",
   "execution_count": null,
   "id": "40f09384-a26a-478b-b860-7cebfa766f57",
   "metadata": {},
   "outputs": [],
   "source": [
    "response = chat_with_gpt(key, context, prompt, model)"
   ]
  },
  {
   "cell_type": "code",
   "execution_count": null,
   "id": "ae84632a-2d89-4e15-92f2-f381453ad01c",
   "metadata": {},
   "outputs": [],
   "source": [
    "print(response)"
   ]
  },
  {
   "cell_type": "code",
   "execution_count": null,
   "id": "71447da0-a365-4e5b-8f4b-0792b9e19311",
   "metadata": {},
   "outputs": [],
   "source": []
  }
 ],
 "metadata": {
  "kernelspec": {
   "display_name": "Python 3 (ipykernel)",
   "language": "python",
   "name": "python3"
  },
  "language_info": {
   "codemirror_mode": {
    "name": "ipython",
    "version": 3
   },
   "file_extension": ".py",
   "mimetype": "text/x-python",
   "name": "python",
   "nbconvert_exporter": "python",
   "pygments_lexer": "ipython3",
   "version": "3.10.11"
  }
 },
 "nbformat": 4,
 "nbformat_minor": 5
}
